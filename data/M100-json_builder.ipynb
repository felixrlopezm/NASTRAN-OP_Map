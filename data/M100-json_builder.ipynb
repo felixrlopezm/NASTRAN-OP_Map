{
 "cells": [
  {
   "cell_type": "code",
   "execution_count": null,
   "metadata": {},
   "outputs": [],
   "source": [
    "import json\n",
    "import numpy as np"
   ]
  },
  {
   "cell_type": "code",
   "execution_count": 1,
   "metadata": {},
   "outputs": [],
   "source": [
    "# Element mapping: dictionary with mapping, x_labels and y_labels\n",
    "# mapping is square matrix; if no element, use dummy element -666\n",
    "\n",
    "# Left Hand Side - Upper Skin panels\n",
    "lhs_upr_skin_panels = np.array([[200089,200095,200060,200066,200072,200059,200042,200047,200041,200002,-666,-666,-666,-666,-666,-666,-666,-666],\n",
    "                                [200088,200094,200061,200067,200073,200058,200043,200046,200029,200030,200022,200023,200026,200001,-666,-666,-666,-666],\n",
    "                                [200087,200093,200062,200068,200074,200057,200044,200045,200037,200038,200052,200053,200010,200011,200012,200013,200003,200000],\n",
    "                                [200086,200092,200063,200069,200075,200056,200078,200083,200039,200040,200050,200051,200021,200020,200016,200017,200007,200006],\n",
    "                                [200085,200091,200064,200070,200076,200055,200079,200082,200033,200034,200048,200049,200027,200028,200018,200019,200004,200005],\n",
    "                                [200084,200090,200065,200071,200077,200054,200080,200081,200035,200036,200031,200032,200024,200025,200014,200015,200009,200008]])\n",
    "\n",
    "lhs_upr_skin_panels_dic = {'mapping': lhs_upr_skin_panels.tolist(),\n",
    "                           'x_labels': ['R1-R2', '', 'R2-R3', '', 'R3-R4', '', 'R4-R5', '', 'R5-R6', '', 'R6-R7', '', 'R7-R8', '', 'R8-R9', '', 'R9-R10', ''],\n",
    "                           'y_labels': ['FS-S1', 'S1-S2', 'S2-S3', 'S3-S4', 'S4-S5', 'S5-RS']}\n",
    "                           \n",
    "# Rib1 web panels\n",
    "rib1_web = np.array([[30068,30050,30054,30060,30063,30062],\n",
    "                     [30067,30047,30049,30056,30045,30061],\n",
    "                     [30066,30058,30051,30053,30059,30064],\n",
    "                     [30065,30057,30048,30055,30046,30052]])\n",
    "\n",
    "rib1_web_dic = {'mapping': rib1_web.tolist(),\n",
    "                'x_labels': ['<--FS', '', '', '', '', 'RS-->'],\n",
    "                'y_labels': ['upr', '', '', 'lwr']}"
   ]
  },
  {
   "cell_type": "code",
   "execution_count": 2,
   "metadata": {},
   "outputs": [],
   "source": [
    "# Creating an element mapping dictionary of lists\n",
    "#elm_mapping = {'lhs_upr_skin_panels': lhs_upr_skin_panels.tolist(), 'rib1_web': rib1_web.tolist()}\n",
    "\n",
    "elm_mapping = {'lhs_upr_skin_panels': lhs_upr_skin_panels_dic, 'rib1_web': rib1_web_dic}"
   ]
  },
  {
   "cell_type": "code",
   "execution_count": null,
   "metadata": {},
   "outputs": [],
   "source": [
    "# Saving the dictionary into a json file:\n",
    "json.dump(elm_mapping, open( \"MECEA-HTP-mapping-B.json\", 'w' ) )"
   ]
  }
 ],
 "metadata": {
  "kernelspec": {
   "display_name": "Python 3",
   "language": "python",
   "name": "python3"
  },
  "language_info": {
   "codemirror_mode": {
    "name": "ipython",
    "version": 3
   },
   "file_extension": ".py",
   "mimetype": "text/x-python",
   "name": "python",
   "nbconvert_exporter": "python",
   "pygments_lexer": "ipython3",
   "version": "3.7.9"
  }
 },
 "nbformat": 4,
 "nbformat_minor": 4
}
